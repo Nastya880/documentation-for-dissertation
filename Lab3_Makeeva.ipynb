{
  "cells": [
    {
      "cell_type": "code",
      "execution_count": null,
      "metadata": {
        "id": "-a0zkdpfJ_Ze"
      },
      "outputs": [],
      "source": [
        "import pandas as pd #for working data\n",
        "import matplotlib.pyplot as plt #for graphics\n",
        "import seaborn as sns #for nice view of graphics"
      ]
    },
    {
      "cell_type": "code",
      "execution_count": null,
      "metadata": {
        "id": "OEoR_ohbKCxo"
      },
      "outputs": [],
      "source": [
        "sns.set(style=\"darkgrid\") #magic"
      ]
    },
    {
      "cell_type": "code",
      "execution_count": null,
      "metadata": {
        "id": "z79bxx0chOAy"
      },
      "outputs": [],
      "source": [
        "df = pd.read_csv('fortune500.csv') #load data"
      ]
    },
    {
      "cell_type": "code",
      "execution_count": null,
      "metadata": {
        "colab": {
          "base_uri": "https://localhost:8080/",
          "height": 204
        },
        "id": "t5Et-DYOq-Au",
        "outputId": "3603c83d-cf48-41dd-b7ee-1c1c58d24a8d"
      },
      "outputs": [
        {
          "data": {
            "text/html": [
              "<div>\n",
              "<style scoped>\n",
              "    .dataframe tbody tr th:only-of-type {\n",
              "        vertical-align: middle;\n",
              "    }\n",
              "\n",
              "    .dataframe tbody tr th {\n",
              "        vertical-align: top;\n",
              "    }\n",
              "\n",
              "    .dataframe thead th {\n",
              "        text-align: right;\n",
              "    }\n",
              "</style>\n",
              "<table border=\"1\" class=\"dataframe\">\n",
              "  <thead>\n",
              "    <tr style=\"text-align: right;\">\n",
              "      <th></th>\n",
              "      <th>year</th>\n",
              "      <th>rank</th>\n",
              "      <th>company</th>\n",
              "      <th>revenue</th>\n",
              "      <th>profit</th>\n",
              "    </tr>\n",
              "  </thead>\n",
              "  <tbody>\n",
              "    <tr>\n",
              "      <th>0</th>\n",
              "      <td>1955</td>\n",
              "      <td>1</td>\n",
              "      <td>General Motors</td>\n",
              "      <td>9823.5</td>\n",
              "      <td>806</td>\n",
              "    </tr>\n",
              "    <tr>\n",
              "      <th>1</th>\n",
              "      <td>1955</td>\n",
              "      <td>2</td>\n",
              "      <td>Exxon Mobil</td>\n",
              "      <td>5661.4</td>\n",
              "      <td>584.8</td>\n",
              "    </tr>\n",
              "    <tr>\n",
              "      <th>2</th>\n",
              "      <td>1955</td>\n",
              "      <td>3</td>\n",
              "      <td>U.S. Steel</td>\n",
              "      <td>3250.4</td>\n",
              "      <td>195.4</td>\n",
              "    </tr>\n",
              "    <tr>\n",
              "      <th>3</th>\n",
              "      <td>1955</td>\n",
              "      <td>4</td>\n",
              "      <td>General Electric</td>\n",
              "      <td>2959.1</td>\n",
              "      <td>212.6</td>\n",
              "    </tr>\n",
              "    <tr>\n",
              "      <th>4</th>\n",
              "      <td>1955</td>\n",
              "      <td>5</td>\n",
              "      <td>Esmark</td>\n",
              "      <td>2510.8</td>\n",
              "      <td>19.1</td>\n",
              "    </tr>\n",
              "  </tbody>\n",
              "</table>\n",
              "</div>"
            ],
            "text/plain": [
              "   year  rank           company  revenue profit\n",
              "0  1955     1    General Motors   9823.5    806\n",
              "1  1955     2       Exxon Mobil   5661.4  584.8\n",
              "2  1955     3        U.S. Steel   3250.4  195.4\n",
              "3  1955     4  General Electric   2959.1  212.6\n",
              "4  1955     5            Esmark   2510.8   19.1"
            ]
          },
          "execution_count": 8,
          "metadata": {
            "tags": []
          },
          "output_type": "execute_result"
        }
      ],
      "source": [
        "df.head() #for table with histry company for 1 year"
      ]
    },
    {
      "cell_type": "code",
      "execution_count": null,
      "metadata": {
        "colab": {
          "base_uri": "https://localhost:8080/",
          "height": 204
        },
        "id": "4qdAtOMOt39G",
        "outputId": "60055de8-bb47-40f5-a5d9-987cbda6e942"
      },
      "outputs": [
        {
          "data": {
            "text/html": [
              "<div>\n",
              "<style scoped>\n",
              "    .dataframe tbody tr th:only-of-type {\n",
              "        vertical-align: middle;\n",
              "    }\n",
              "\n",
              "    .dataframe tbody tr th {\n",
              "        vertical-align: top;\n",
              "    }\n",
              "\n",
              "    .dataframe thead th {\n",
              "        text-align: right;\n",
              "    }\n",
              "</style>\n",
              "<table border=\"1\" class=\"dataframe\">\n",
              "  <thead>\n",
              "    <tr style=\"text-align: right;\">\n",
              "      <th></th>\n",
              "      <th>year</th>\n",
              "      <th>rank</th>\n",
              "      <th>company</th>\n",
              "      <th>revenue</th>\n",
              "      <th>profit</th>\n",
              "    </tr>\n",
              "  </thead>\n",
              "  <tbody>\n",
              "    <tr>\n",
              "      <th>25495</th>\n",
              "      <td>2005</td>\n",
              "      <td>496</td>\n",
              "      <td>Wm. Wrigley Jr.</td>\n",
              "      <td>3648.6</td>\n",
              "      <td>493</td>\n",
              "    </tr>\n",
              "    <tr>\n",
              "      <th>25496</th>\n",
              "      <td>2005</td>\n",
              "      <td>497</td>\n",
              "      <td>Peabody Energy</td>\n",
              "      <td>3631.6</td>\n",
              "      <td>175.4</td>\n",
              "    </tr>\n",
              "    <tr>\n",
              "      <th>25497</th>\n",
              "      <td>2005</td>\n",
              "      <td>498</td>\n",
              "      <td>Wendy's International</td>\n",
              "      <td>3630.4</td>\n",
              "      <td>57.8</td>\n",
              "    </tr>\n",
              "    <tr>\n",
              "      <th>25498</th>\n",
              "      <td>2005</td>\n",
              "      <td>499</td>\n",
              "      <td>Kindred Healthcare</td>\n",
              "      <td>3616.6</td>\n",
              "      <td>70.6</td>\n",
              "    </tr>\n",
              "    <tr>\n",
              "      <th>25499</th>\n",
              "      <td>2005</td>\n",
              "      <td>500</td>\n",
              "      <td>Cincinnati Financial</td>\n",
              "      <td>3614.0</td>\n",
              "      <td>584</td>\n",
              "    </tr>\n",
              "  </tbody>\n",
              "</table>\n",
              "</div>"
            ],
            "text/plain": [
              "       year  rank                company  revenue profit\n",
              "25495  2005   496        Wm. Wrigley Jr.   3648.6    493\n",
              "25496  2005   497         Peabody Energy   3631.6  175.4\n",
              "25497  2005   498  Wendy's International   3630.4   57.8\n",
              "25498  2005   499     Kindred Healthcare   3616.6   70.6\n",
              "25499  2005   500   Cincinnati Financial   3614.0    584"
            ]
          },
          "execution_count": 7,
          "metadata": {
            "tags": []
          },
          "output_type": "execute_result"
        }
      ],
      "source": [
        "df.tail()"
      ]
    },
    {
      "cell_type": "code",
      "execution_count": null,
      "metadata": {
        "id": "aKdoS-fNt67X"
      },
      "outputs": [],
      "source": [
        "df.columns=['year','rank','company','revenue','profit']"
      ]
    },
    {
      "cell_type": "code",
      "execution_count": null,
      "metadata": {
        "colab": {
          "base_uri": "https://localhost:8080/"
        },
        "id": "4NNo067ZuOZO",
        "outputId": "092a9e8d-468c-4587-9285-f2ed0faefdf0"
      },
      "outputs": [
        {
          "data": {
            "text/plain": [
              "25500"
            ]
          },
          "execution_count": 9,
          "metadata": {
            "tags": []
          },
          "output_type": "execute_result"
        }
      ],
      "source": [
        "len(df)"
      ]
    },
    {
      "cell_type": "code",
      "execution_count": null,
      "metadata": {
        "colab": {
          "base_uri": "https://localhost:8080/"
        },
        "id": "dw0TcxwSuT9o",
        "outputId": "299dcc0b-2903-4b5e-af86-6c043fb53a17"
      },
      "outputs": [
        {
          "data": {
            "text/plain": [
              "year         int64\n",
              "rank         int64\n",
              "company     object\n",
              "revenue    float64\n",
              "profit      object\n",
              "dtype: object"
            ]
          },
          "execution_count": 10,
          "metadata": {
            "tags": []
          },
          "output_type": "execute_result"
        }
      ],
      "source": [
        "df.dtypes #!profit - not int value"
      ]
    },
    {
      "cell_type": "code",
      "execution_count": null,
      "metadata": {
        "colab": {
          "base_uri": "https://localhost:8080/",
          "height": 204
        },
        "id": "L3cHLnyIuZtd",
        "outputId": "fbf4e7ab-05c9-49d3-f84d-c1a12575b5f6"
      },
      "outputs": [
        {
          "data": {
            "text/html": [
              "<div>\n",
              "<style scoped>\n",
              "    .dataframe tbody tr th:only-of-type {\n",
              "        vertical-align: middle;\n",
              "    }\n",
              "\n",
              "    .dataframe tbody tr th {\n",
              "        vertical-align: top;\n",
              "    }\n",
              "\n",
              "    .dataframe thead th {\n",
              "        text-align: right;\n",
              "    }\n",
              "</style>\n",
              "<table border=\"1\" class=\"dataframe\">\n",
              "  <thead>\n",
              "    <tr style=\"text-align: right;\">\n",
              "      <th></th>\n",
              "      <th>year</th>\n",
              "      <th>rank</th>\n",
              "      <th>company</th>\n",
              "      <th>revenue</th>\n",
              "      <th>profit</th>\n",
              "    </tr>\n",
              "  </thead>\n",
              "  <tbody>\n",
              "    <tr>\n",
              "      <th>228</th>\n",
              "      <td>1955</td>\n",
              "      <td>229</td>\n",
              "      <td>Norton</td>\n",
              "      <td>135.0</td>\n",
              "      <td>N.A.</td>\n",
              "    </tr>\n",
              "    <tr>\n",
              "      <th>290</th>\n",
              "      <td>1955</td>\n",
              "      <td>291</td>\n",
              "      <td>Schlitz Brewing</td>\n",
              "      <td>100.0</td>\n",
              "      <td>N.A.</td>\n",
              "    </tr>\n",
              "    <tr>\n",
              "      <th>294</th>\n",
              "      <td>1955</td>\n",
              "      <td>295</td>\n",
              "      <td>Pacific Vegetable Oil</td>\n",
              "      <td>97.9</td>\n",
              "      <td>N.A.</td>\n",
              "    </tr>\n",
              "    <tr>\n",
              "      <th>296</th>\n",
              "      <td>1955</td>\n",
              "      <td>297</td>\n",
              "      <td>Liebmann Breweries</td>\n",
              "      <td>96.0</td>\n",
              "      <td>N.A.</td>\n",
              "    </tr>\n",
              "    <tr>\n",
              "      <th>352</th>\n",
              "      <td>1955</td>\n",
              "      <td>353</td>\n",
              "      <td>Minneapolis-Moline</td>\n",
              "      <td>77.4</td>\n",
              "      <td>N.A.</td>\n",
              "    </tr>\n",
              "  </tbody>\n",
              "</table>\n",
              "</div>"
            ],
            "text/plain": [
              "     year  rank                company  revenue profit\n",
              "228  1955   229                 Norton    135.0   N.A.\n",
              "290  1955   291        Schlitz Brewing    100.0   N.A.\n",
              "294  1955   295  Pacific Vegetable Oil     97.9   N.A.\n",
              "296  1955   297     Liebmann Breweries     96.0   N.A.\n",
              "352  1955   353     Minneapolis-Moline     77.4   N.A."
            ]
          },
          "execution_count": 11,
          "metadata": {
            "tags": []
          },
          "output_type": "execute_result"
        }
      ],
      "source": [
        "non_numberic_profits = df.profit.str.contains('[^0-9.-]')\n",
        "df.loc[non_numberic_profits].head()"
      ]
    },
    {
      "cell_type": "code",
      "execution_count": null,
      "metadata": {
        "colab": {
          "base_uri": "https://localhost:8080/"
        },
        "id": "HQUkTrlpuuEZ",
        "outputId": "2f7ef241-9eba-4428-f566-86b8a37941e5"
      },
      "outputs": [
        {
          "data": {
            "text/plain": [
              "369"
            ]
          },
          "execution_count": 12,
          "metadata": {
            "tags": []
          },
          "output_type": "execute_result"
        }
      ],
      "source": [
        "len(df.loc[non_numberic_profits])"
      ]
    },
    {
      "cell_type": "code",
      "execution_count": null,
      "metadata": {
        "colab": {
          "base_uri": "https://localhost:8080/",
          "height": 270
        },
        "id": "H3o_Zv2Cu7PR",
        "outputId": "41f46e11-fbd1-4b58-941c-eb33a4eea327"
      },
      "outputs": [
        {
          "data": {
            "image/png": "[encoded data removed]",
            "text/plain": [
              "<Figure size 432x288 with 1 Axes>"
            ]
          },
          "metadata": {
            "tags": []
          },
          "output_type": "display_data"
        }
      ],
      "source": [
        "bin_size, _, _ = plt.hist(df.year[non_numberic_profits], bins=range(1955, 2006))"
      ]
    },
    {
      "cell_type": "code",
      "execution_count": null,
      "metadata": {
        "id": "UFaRLfHpvQ1-"
      },
      "outputs": [],
      "source": [
        "df=df.loc[~non_numberic_profits]\n",
        "df.profit = df.profit.apply(pd.to_numeric)"
      ]
    },
    {
      "cell_type": "code",
      "execution_count": null,
      "metadata": {
        "colab": {
          "base_uri": "https://localhost:8080/"
        },
        "id": "XhLeBOA_vkpd",
        "outputId": "279196db-e2ba-405b-a758-c57d4e66858f"
      },
      "outputs": [
        {
          "data": {
            "text/plain": [
              "25131"
            ]
          },
          "execution_count": 16,
          "metadata": {
            "tags": []
          },
          "output_type": "execute_result"
        }
      ],
      "source": [
        "len(df)"
      ]
    },
    {
      "cell_type": "code",
      "execution_count": null,
      "metadata": {
        "colab": {
          "base_uri": "https://localhost:8080/"
        },
        "id": "9qR9vn-QvspF",
        "outputId": "892c66d1-06c4-4ba4-a3f4-54435cae525e"
      },
      "outputs": [
        {
          "data": {
            "text/plain": [
              "year         int64\n",
              "rank         int64\n",
              "company     object\n",
              "revenue    float64\n",
              "profit     float64\n",
              "dtype: object"
            ]
          },
          "execution_count": 17,
          "metadata": {
            "tags": []
          },
          "output_type": "execute_result"
        }
      ],
      "source": [
        "df.dtypes"
      ]
    },
    {
      "cell_type": "markdown",
      "metadata": {
        "id": "vAJYwD8_vvmG"
      },
      "source": [
        "5."
      ]
    },
    {
      "cell_type": "code",
      "execution_count": null,
      "metadata": {
        "id": "IEW1fR6bvuzk"
      },
      "outputs": [],
      "source": [
        "group_by_year = df.loc[:, ['year', 'revenue', 'profit']].groupby('year')\n",
        "avgs = group_by_year.mean()\n",
        "x=avgs.index\n",
        "y1 = avgs.profit\n",
        "def plot(x,y,ax,title,y_label):\n",
        "  ax.set_title(title)\n",
        "  ax.set_ylabel(y_label)\n",
        "  ax.plot(x,y)\n",
        "  ax.margins(x=0, y=0)"
      ]
    },
    {
      "cell_type": "markdown",
      "metadata": {
        "id": "tfQRgpPnxkQk"
      },
      "source": [
        "прибыль"
      ]
    },
    {
      "cell_type": "code",
      "execution_count": null,
      "metadata": {
        "colab": {
          "base_uri": "https://localhost:8080/",
          "height": 284
        },
        "id": "OaQ5jaAmxCeP",
        "outputId": "5efa5644-11fa-49ae-a313-a7e2cdc1d871"
      },
      "outputs": [
        {
          "data": {
            "image/png": "[encoded data removed]",
            "text/plain": [
              "<Figure size 432x288 with 1 Axes>"
            ]
          },
          "metadata": {
            "tags": []
          },
          "output_type": "display_data"
        }
      ],
      "source": [
        "fig, ax = plt.subplots()\n",
        "plot(x,y1,ax,'Increase in mean Fortune 500 company profits from 1955 to 2005', 'Profit (millions)')"
      ]
    },
    {
      "cell_type": "markdown",
      "metadata": {
        "id": "Sd_717t1xnBO"
      },
      "source": [
        "доходы"
      ]
    },
    {
      "cell_type": "code",
      "execution_count": null,
      "metadata": {
        "colab": {
          "base_uri": "https://localhost:8080/",
          "height": 284
        },
        "id": "_sKr4ElDxbR-",
        "outputId": "1a5fe89f-a100-473f-b394-2d62ebe58c82"
      },
      "outputs": [
        {
          "data": {
            "image/png": "[encoded data removed]",
            "text/plain": [
              "<Figure size 432x288 with 1 Axes>"
            ]
          },
          "metadata": {
            "tags": []
          },
          "output_type": "display_data"
        }
      ],
      "source": [
        "y2=avgs.revenue\n",
        "fig,ax = plt.subplots()\n",
        "plot(x,y2,ax,'Increase in mean Fortune 500 company revenues from 1955 to 2005', 'Revenue (millions)')"
      ]
    },
    {
      "cell_type": "markdown",
      "metadata": {
        "id": "EKVvAb-FyCB0"
      },
      "source": [
        "наложение"
      ]
    },
    {
      "cell_type": "code",
      "execution_count": null,
      "metadata": {
        "colab": {
          "base_uri": "https://localhost:8080/",
          "height": 293
        },
        "id": "cx_9VKfyyBum",
        "outputId": "798f4feb-ad41-4839-c528-b633e777f996"
      },
      "outputs": [
        {
          "data": {
            "image/png": "[encoded data removed]",
            "text/plain": [
              "<Figure size 1008x288 with 2 Axes>"
            ]
          },
          "metadata": {
            "tags": []
          },
          "output_type": "display_data"
        }
      ],
      "source": [
        "def plot_with_std(x, y, stds, ax, title, y_label):\n",
        "  ax.fill_between(x,y - stds, y+stds, alpha=0.2)\n",
        "  plot(x, y, ax, title, y_label)\n",
        "fig, (ax1,ax2) = plt.subplots(ncols = 2)\n",
        "title='Increase in mean Fortune 500 company %s from 1955 to 2005'\n",
        "stds1 = group_by_year.std().profit.values\n",
        "stds2 = group_by_year.std().revenue.values\n",
        "plot_with_std(x, y1.values, stds1, ax1, title % 'profits', 'Profit (millions)')\n",
        "plot_with_std(x, y2.values, stds2, ax2, title % 'revenues', 'Revenue (millions)')\n",
        "fig.set_size_inches(14,4)\n",
        "fig.tight_layout()"
      ]
    }
  ],
  "metadata": {
    "colab": {
      "provenance": []
    },
    "kernelspec": {
      "display_name": "Python 3",
      "name": "python3"
    },
    "language_info": {
      "codemirror_mode": {
        "name": "ipython",
        "version": 3
      },
      "file_extension": ".py",
      "mimetype": "text/x-python",
      "name": "python",
      "nbconvert_exporter": "python",
      "pygments_lexer": "ipython3",
      "version": "3.8.9"
    }
  },
  "nbformat": 4,
  "nbformat_minor": 0
}
